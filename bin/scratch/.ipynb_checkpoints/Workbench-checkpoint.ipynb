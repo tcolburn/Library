{
 "cells": [
  {
   "cell_type": "code",
   "execution_count": 3,
   "metadata": {
    "collapsed": false
   },
   "outputs": [
    {
     "name": "stdout",
     "output_type": "stream",
     "text": [
      "The autoreload extension is already loaded. To reload it, use:\n",
      "  %reload_ext autoreload\n"
     ]
    }
   ],
   "source": [
    "import os\n",
    "import MDAnalysis as mda\n",
    "import numpy as np\n",
    "import matplotlib as mpl\n",
    "import MDAnalysis.analysis.rms as rms\n",
    "import matplotlib.pyplot as plt\n",
    "import seaborn as sns\n",
    "\n",
    "%matplotlib inline\n",
    "%load_ext autoreload\n",
    "%autoreload 2"
   ]
  },
  {
   "cell_type": "code",
   "execution_count": 13,
   "metadata": {
    "collapsed": true
   },
   "outputs": [],
   "source": [
    "def OP_proc(traj, list_name = \"d\", top = \"2jln_r10_g470_c22.psf\"):\n",
    "    u = mda.Universe(top, traj)\n",
    "\n",
    "    d1 = []\n",
    "    d2 = []\n",
    "    d3 = []\n",
    "    print \"Tabulating gate distances...\"\n",
    "    for ts in u.trajectory:\n",
    "        b_ec = u.select_atoms(\"resid 38:40\") #select bundle for ec_thin comparison\n",
    "        ec_thin = u.select_atoms(\"resid 351:353\") #select extracellular thin gate\n",
    "        b_ic = u.select_atoms(\"resid 152:154\") #sic\n",
    "        ic_thin = u.select_atoms(\"resid 220:222\") #select intracellular thin gate\n",
    "        b_tg = u.select_atoms(\"resid 29 or resid 32\") #sic\n",
    "        thick = u.select_atoms(\"resid 300 or resid 303:304\") #select thick gate\n",
    "\n",
    "        d1_a = abs(b_ec.center_of_mass() - ec_thin.center_of_mass())\n",
    "        d2_a = abs(b_ic.center_of_mass() - ic_thin.center_of_mass())\n",
    "        d3_a = abs(b_tg.center_of_mass() - thick.center_of_mass())\n",
    "        d1_b = np.linalg.norm(d1_a)\n",
    "        d2_b = np.linalg.norm(d2_a)\n",
    "        d3_b = np.linalg.norm(d3_a)\n",
    "\n",
    "        d1.append(d1_b) #Ec_thin\n",
    "        d2.append(d2_b) #Ic_thin\n",
    "        d3.append(d3_b) #Thick Gate\n",
    "        \n",
    "    print \"Lists populated\"\n",
    "    return d1, d2, d3"
   ]
  },
  {
   "cell_type": "code",
   "execution_count": 15,
   "metadata": {
    "collapsed": false
   },
   "outputs": [
    {
     "name": "stdout",
     "output_type": "stream",
     "text": [
      "Tabulating gate distances...\n",
      "Lists populated\n"
     ]
    }
   ],
   "source": []
  },
  {
   "cell_type": "code",
   "execution_count": 19,
   "metadata": {
    "collapsed": true
   },
   "outputs": [],
   "source": [
    "def plt_gates(list_name = \"d\", path_ID = \"i2occ2o\"):\n",
    "    fig = plt.figure(figsize = (8,5))\n",
    "    ax = fig.add_subplot(111)\n",
    "    ax.plot(\"{}1\".format(list_name), 'k-', label = \"Extracellular\")\n",
    "    ax.plot(\"{}2\".format(list_name), 'b-', label = \"Intracellular\")\n",
    "    ax.plot(\"{}3\".format(list_name), 'r-', label = \"Thick\")\n",
    "    box = ax.get_position()\n",
    "    ax.set_title('Gate Order Parameters')\n",
    "    ax.set_position([box.x0, box.y0, box.width * 0.7, box.height])\n",
    "    ax.legend(loc='center left', bbox_to_anchor=(1, 0.5))\n",
    "    ax.set_ylim([0, 25])\n",
    "    ax.set_xlabel(\"timestep\")\n",
    "    ax.set_ylabel(r\"Distance to Bundle ($\\AA$)\")\n",
    "    fig.savefig(\"mhp1_gate_tseries_\" + path_ID + \"_mhp1.pdf\")\n",
    "    "
   ]
  },
  {
   "cell_type": "code",
   "execution_count": 18,
   "metadata": {
    "collapsed": false
   },
   "outputs": [
    {
     "data": {
      "text/plain": [
       "'d1'"
      ]
     },
     "execution_count": 18,
     "metadata": {},
     "output_type": "execute_result"
    }
   ],
   "source": []
  },
  {
   "cell_type": "code",
   "execution_count": null,
   "metadata": {
    "collapsed": true
   },
   "outputs": [],
   "source": []
  }
 ],
 "metadata": {
  "kernelspec": {
   "display_name": "Python 2",
   "language": "python",
   "name": "python2"
  },
  "language_info": {
   "codemirror_mode": {
    "name": "ipython",
    "version": 2
   },
   "file_extension": ".py",
   "mimetype": "text/x-python",
   "name": "python",
   "nbconvert_exporter": "python",
   "pygments_lexer": "ipython2",
   "version": "2.7.6"
  }
 },
 "nbformat": 4,
 "nbformat_minor": 0
}
