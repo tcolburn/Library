{
 "cells": [
  {
   "cell_type": "code",
   "execution_count": 1,
   "metadata": {
    "collapsed": true
   },
   "outputs": [],
   "source": [
    "import os\n",
    "import MDAnalysis as mda\n",
    "import numpy as np\n",
    "import matplotlib as mpl\n",
    "import MDAnalysis.analysis.rms as rms\n",
    "import matplotlib.pyplot as plt\n",
    "import seaborn as sns"
   ]
  },
  {
   "cell_type": "code",
   "execution_count": 14,
   "metadata": {
    "collapsed": false
   },
   "outputs": [
    {
     "ename": "NameError",
     "evalue": "name 'r_init' is not defined",
     "output_type": "error",
     "traceback": [
      "\u001b[0;31m---------------------------------------------------------------------------\u001b[0m",
      "\u001b[0;31mNameError\u001b[0m                                 Traceback (most recent call last)",
      "\u001b[0;32m<ipython-input-14-36d0b28ce741>\u001b[0m in \u001b[0;36m<module>\u001b[0;34m()\u001b[0m\n\u001b[1;32m     11\u001b[0m     \u001b[0mr_targ\u001b[0m\u001b[0;34m.\u001b[0m\u001b[0msave\u001b[0m\u001b[0;34m(\u001b[0m\u001b[0;34m\"r_targ\"\u001b[0m\u001b[0;34m)\u001b[0m\u001b[0;34m\u001b[0m\u001b[0m\n\u001b[1;32m     12\u001b[0m \u001b[0;34m\u001b[0m\u001b[0m\n\u001b[0;32m---> 13\u001b[0;31m \u001b[0;32mdef\u001b[0m \u001b[0mdelta_plt\u001b[0m\u001b[0;34m(\u001b[0m\u001b[0minit\u001b[0m \u001b[0;34m=\u001b[0m \u001b[0mr_init\u001b[0m\u001b[0;34m,\u001b[0m \u001b[0mtarg\u001b[0m \u001b[0;34m=\u001b[0m \u001b[0mr_targ\u001b[0m\u001b[0;34m,\u001b[0m \u001b[0mdirection\u001b[0m \u001b[0;34m=\u001b[0m \u001b[0;34m\"i2occ2o\"\u001b[0m\u001b[0;34m,\u001b[0m \u001b[0mshow\u001b[0m \u001b[0;34m=\u001b[0m \u001b[0mFalse\u001b[0m\u001b[0;34m)\u001b[0m\u001b[0;34m:\u001b[0m\u001b[0;34m\u001b[0m\u001b[0m\n\u001b[0m\u001b[1;32m     14\u001b[0m     \u001b[0mr_init\u001b[0m \u001b[0;34m=\u001b[0m \u001b[0minit\u001b[0m\u001b[0;34m\u001b[0m\u001b[0m\n\u001b[1;32m     15\u001b[0m     \u001b[0mr_targ\u001b[0m \u001b[0;34m=\u001b[0m \u001b[0mtarg\u001b[0m\u001b[0;34m\u001b[0m\u001b[0m\n",
      "\u001b[0;31mNameError\u001b[0m: name 'r_init' is not defined"
     ]
    }
   ],
   "source": [
    "def delta_proc(init, targ, traj, top = \"2jln_r10_g470_c22.psf\"):\n",
    "    initial = mda.Universe(top, init)\n",
    "    target = mda.Universe(top, targ)\n",
    "    trajectory = mda.Universe(top, traj)\n",
    "\n",
    "    r_init =  rms.RMSD(trajectory, initial, select='all')\n",
    "    r_init.run()\n",
    "    r_init.save(\"r_init\")\n",
    "    r_targ =  rms.RMSD(trajectory, target, select='all')\n",
    "    r_targ.run()\n",
    "    r_targ.save(\"r_targ\")\n",
    "\n",
    "def delta_plt(init = r_init, targ = r_targ, direction = \"i2occ2o\", show = False):\n",
    "    r_init = init\n",
    "    r_targ = targ\n",
    "    rmsd_init = r_init.rmsd.T\n",
    "    rmsd_targ = r_targ.rmsd.T\n",
    "    del_rmsd = rmsd_init[2] - rmsd_targ[2]\n",
    "    time = rmsd_init[1]\n",
    "    fig = plt.figure(figsize = (5,5))\n",
    "    ax = fig.add_subplot(111)\n",
    "    ax.set_title('$\\Delta \\Delta$ RMSD: OB Gates')\n",
    "    ax.plot(time, del_rmsd, 'k--')\n",
    "    ax.set_xlabel(\"Time Step\")\n",
    "    ax.set_ylabel(r\"Delta RMSD ($\\AA$)\")\n",
    "    fig.savefig(\"del_rmsd_\" + direction + \"_mhp1.pdf\")\n",
    "    if show:\n",
    "        plt.show()"
   ]
  },
  {
   "cell_type": "code",
   "execution_count": 6,
   "metadata": {
    "collapsed": false
   },
   "outputs": [
    {
     "name": "stderr",
     "output_type": "stream",
     "text": [
      "RMSD  3.66 A at frame   261/261  [100.0%]\n",
      "RMSD  0.85 A at frame   261/261  [100.0%]\n"
     ]
    }
   ],
   "source": [
    "delta_proc('mhp1_i_mini.crd', 'mhp1_o_mini.crd', 'path.dcd', 'mhp1.psf')\n"
   ]
  },
  {
   "cell_type": "code",
   "execution_count": 12,
   "metadata": {
    "collapsed": false
   },
   "outputs": [
    {
     "ename": "AttributeError",
     "evalue": "'str' object has no attribute 'rmsd'",
     "output_type": "error",
     "traceback": [
      "\u001b[0;31m---------------------------------------------------------------------------\u001b[0m",
      "\u001b[0;31mAttributeError\u001b[0m                            Traceback (most recent call last)",
      "\u001b[0;32m<ipython-input-12-4bb5051b4dfe>\u001b[0m in \u001b[0;36m<module>\u001b[0;34m()\u001b[0m\n\u001b[0;32m----> 1\u001b[0;31m \u001b[0mdelta_plt\u001b[0m\u001b[0;34m(\u001b[0m\u001b[0;34m\"r_init\"\u001b[0m\u001b[0;34m,\u001b[0m \u001b[0;34m\"r_targ\"\u001b[0m\u001b[0;34m)\u001b[0m\u001b[0;34m\u001b[0m\u001b[0m\n\u001b[0m",
      "\u001b[0;32m<ipython-input-11-6b6afa3b5698>\u001b[0m in \u001b[0;36mdelta_plt\u001b[0;34m(init, targ, direction, show)\u001b[0m\n\u001b[1;32m     14\u001b[0m     \u001b[0mr_init\u001b[0m \u001b[0;34m=\u001b[0m \u001b[0minit\u001b[0m\u001b[0;34m\u001b[0m\u001b[0m\n\u001b[1;32m     15\u001b[0m     \u001b[0mr_tart\u001b[0m \u001b[0;34m=\u001b[0m \u001b[0mtarg\u001b[0m\u001b[0;34m\u001b[0m\u001b[0m\n\u001b[0;32m---> 16\u001b[0;31m     \u001b[0mrmsd_init\u001b[0m \u001b[0;34m=\u001b[0m \u001b[0mr_init\u001b[0m\u001b[0;34m.\u001b[0m\u001b[0mrmsd\u001b[0m\u001b[0;34m.\u001b[0m\u001b[0mT\u001b[0m\u001b[0;34m\u001b[0m\u001b[0m\n\u001b[0m\u001b[1;32m     17\u001b[0m     \u001b[0mrmsd_targ\u001b[0m \u001b[0;34m=\u001b[0m \u001b[0mr_targ\u001b[0m\u001b[0;34m.\u001b[0m\u001b[0mrmsd\u001b[0m\u001b[0;34m.\u001b[0m\u001b[0mT\u001b[0m\u001b[0;34m\u001b[0m\u001b[0m\n\u001b[1;32m     18\u001b[0m     \u001b[0mdel_rmsd\u001b[0m \u001b[0;34m=\u001b[0m \u001b[0mrmsd_init\u001b[0m\u001b[0;34m[\u001b[0m\u001b[0;36m2\u001b[0m\u001b[0;34m]\u001b[0m \u001b[0;34m-\u001b[0m \u001b[0mrmsd_targ\u001b[0m\u001b[0;34m[\u001b[0m\u001b[0;36m2\u001b[0m\u001b[0;34m]\u001b[0m\u001b[0;34m\u001b[0m\u001b[0m\n",
      "\u001b[0;31mAttributeError\u001b[0m: 'str' object has no attribute 'rmsd'"
     ]
    }
   ],
   "source": [
    "delta_plt(\"r_init\", \"r_targ\")"
   ]
  }
 ],
 "metadata": {
  "kernelspec": {
   "display_name": "Python 2",
   "language": "python",
   "name": "python2"
  },
  "language_info": {
   "codemirror_mode": {
    "name": "ipython",
    "version": 2
   },
   "file_extension": ".py",
   "mimetype": "text/x-python",
   "name": "python",
   "nbconvert_exporter": "python",
   "pygments_lexer": "ipython2",
   "version": "2.7.6"
  }
 },
 "nbformat": 4,
 "nbformat_minor": 0
}
